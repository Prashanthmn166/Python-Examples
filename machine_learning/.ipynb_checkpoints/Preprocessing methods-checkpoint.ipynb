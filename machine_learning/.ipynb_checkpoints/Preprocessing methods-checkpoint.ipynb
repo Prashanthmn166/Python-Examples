{
 "cells": [
  {
   "cell_type": "markdown",
   "metadata": {},
   "source": [
    "#BINARIZATION"
   ]
  },
  {
   "cell_type": "code",
   "execution_count": 16,
   "metadata": {},
   "outputs": [
    {
     "name": "stdout",
     "output_type": "stream",
     "text": [
      "     0    1    2\n",
      "0  100  200  300\n",
      "1  100  150  130\n",
      "2  240  400  300\n",
      "Binarized data:\n",
      "\n",
      " [[0 1 1]\n",
      " [0 0 0]\n",
      " [1 1 1]]\n"
     ]
    }
   ],
   "source": [
    "from sklearn import preprocessing\n",
    "import pandas as pd\n",
    "\n",
    "data_set = [(100,200,300),(100,150,130),(240,400,300)]\n",
    "df = pd.DataFrame(data_set)\n",
    "print(df)\n",
    "bindata = preprocessing.Binarizer(threshold=150).transform(df)\n",
    "print('Binarized data:\\n\\n', bindata)"
   ]
  },
  {
   "cell_type": "markdown",
   "metadata": {},
   "source": [
    "#MEAN REMOVAL"
   ]
  },
  {
   "cell_type": "code",
   "execution_count": 17,
   "metadata": {},
   "outputs": [
    {
     "name": "stdout",
     "output_type": "stream",
     "text": [
      "0    146.666667\n",
      "1    250.000000\n",
      "2    243.333333\n",
      "dtype: float64\n",
      "0     80.829038\n",
      "1    132.287566\n",
      "2     98.149546\n",
      "dtype: float64\n"
     ]
    }
   ],
   "source": [
    "print(df.mean(axis=0))\n",
    "print(df.std(axis=0))"
   ]
  },
  {
   "cell_type": "code",
   "execution_count": 20,
   "metadata": {},
   "outputs": [
    {
     "name": "stdout",
     "output_type": "stream",
     "text": [
      "[[-0.70710678 -0.46291005  0.70710678]\n",
      " [-0.70710678 -0.9258201  -1.41421356]\n",
      " [ 1.41421356  1.38873015  0.70710678]]\n"
     ]
    },
    {
     "data": {
      "text/plain": [
       "array([1., 1., 1.])"
      ]
     },
     "execution_count": 20,
     "metadata": {},
     "output_type": "execute_result"
    }
   ],
   "source": [
    "df = df.astype(float)\n",
    "scale_df = preprocessing.scale(df)\n",
    "print(scale_df)\n",
    "scale_df.mean(axis=0)\n",
    "scale_df.std(axis=0)\n"
   ]
  },
  {
   "cell_type": "markdown",
   "metadata": {},
   "source": [
    "#SCALING\n",
    "\n",
    "    StandardScaler - => features with a mean=0 and variance=1\n",
    "    MinMaxScaler - => features in a 0 to 1 range\n",
    "    Normalizer - => feature vector to a Euclidean length=1\n"
   ]
  },
  {
   "cell_type": "code",
   "execution_count": 21,
   "metadata": {
    "scrolled": false
   },
   "outputs": [
    {
     "name": "stdout",
     "output_type": "stream",
     "text": [
      "MinMaxScaler applied on the data:\n",
      " [[0.  0.2 1. ]\n",
      " [0.  0.  0. ]\n",
      " [1.  1.  1. ]]\n"
     ]
    }
   ],
   "source": [
    "minmax_scaler = preprocessing.MinMaxScaler(feature_range=(0,1))\n",
    "data_minmax = minmax_scaler.fit_transform(df)\n",
    "print('MinMaxScaler applied on the data:\\n', data_minmax)\n"
   ]
  },
  {
   "cell_type": "markdown",
   "metadata": {},
   "source": [
    "NORMALIZATION\n",
    "\n",
    "    L1 - Least Absolute Deviations - sum of absolute values (on each row) = 1; it is insensitive to outliers\n",
    "    L2 - Least Squares - sum of squares (on each row) = 1; takes outliers in consideration during training\n"
   ]
  },
  {
   "cell_type": "code",
   "execution_count": 23,
   "metadata": {},
   "outputs": [
    {
     "name": "stdout",
     "output_type": "stream",
     "text": [
      "L1-normalized data: [[0.16666667 0.33333333 0.5       ]\n",
      " [0.26315789 0.39473684 0.34210526]\n",
      " [0.25531915 0.42553191 0.31914894]]\n",
      "\n",
      "L2-normalized data: [[0.26726124 0.53452248 0.80178373]\n",
      " [0.44992127 0.67488191 0.58489765]\n",
      " [0.43273107 0.72121845 0.54091383]]\n"
     ]
    }
   ],
   "source": [
    "data_l1 = preprocessing.normalize(df, norm='l1')\n",
    "data_l2 = preprocessing.normalize(df, norm='l2')\n",
    "\n",
    "print('L1-normalized data:\\n', data_l1)\n",
    "print('\\nL2-normalized data:\\n', data_l2)\n"
   ]
  },
  {
   "cell_type": "code",
   "execution_count": null,
   "metadata": {},
   "outputs": [],
   "source": []
  }
 ],
 "metadata": {
  "kernelspec": {
   "display_name": "Python 3",
   "language": "python",
   "name": "python3"
  },
  "language_info": {
   "codemirror_mode": {
    "name": "ipython",
    "version": 3
   },
   "file_extension": ".py",
   "mimetype": "text/x-python",
   "name": "python",
   "nbconvert_exporter": "python",
   "pygments_lexer": "ipython3",
   "version": "3.4.3"
  }
 },
 "nbformat": 4,
 "nbformat_minor": 2
}
